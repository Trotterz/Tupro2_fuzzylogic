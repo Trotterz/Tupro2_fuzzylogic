{
 "cells": [
  {
   "cell_type": "markdown",
   "id": "2467e087",
   "metadata": {},
   "source": [
    "## Tupro 2 PKB (Fuzzy Logic)"
   ]
  },
  {
   "cell_type": "markdown",
   "id": "04fb7f2d",
   "metadata": {},
   "source": [
    "Langkah-langkah :\n",
    "1. Fuzzification (Membuat data crisp input menjadi fuzzy input)\n",
    "2. Inference (Penalaran menggunakan fuzzy input dan fuzzy rules)\n",
    "3. Defuzzification (Mengubah fuzzy output menjadi crisp output)\n",
    "4. Mengurutkan data berdasarkan crisp output tertinggi"
   ]
  },
  {
   "cell_type": "markdown",
   "id": "83d129f3",
   "metadata": {},
   "source": [
    "Note :\n",
    "\n",
    "Scaling atribut :\n",
    "1. Servis : 0 - 100 : semakin tinggi semakin baik\n",
    "2. Harga : 0 - 10 : semakin rendah semakin baik\n",
    "\n",
    "\n",
    "Fuzzy Input :\n",
    "\n",
    "Servis :\n",
    "\n",
    "- 0 - 50 = Kurang\n",
    "- 25 - 75 = Cukup\n",
    "- 50 - 100 = Baik\n",
    "\n",
    "Harga : \n",
    "\n",
    "- 0 - 4 = Murah\n",
    "- 3 - 7 = Sedang\n",
    "- 6 - 10 = Mahal\n",
    "\n",
    "Fuzzy Rules :\n",
    "\n",
    "1. Kurang x Murah = Biasa\n",
    "2. Kurang x Sedang = Buruk\n",
    "3. Kurang x Mahal = Buruk\n",
    "4. Cukup x Murah = Bagus\n",
    "5. Cukup x Sedang = Biasa\n",
    "6. Cukup x Mahal = Buruk\n",
    "7. Baik x Murah = Bagus\n",
    "8. Baik x Sedang = Bagus\n",
    "9. Baik x Mahal = Biasa"
   ]
  },
  {
   "cell_type": "markdown",
   "id": "ae70920e",
   "metadata": {},
   "source": [
    "Import modul pandas untuk membaca dan menulis data xlsx lalu ubah format data menjadi bentuk dictionary"
   ]
  },
  {
   "cell_type": "code",
   "execution_count": 96,
   "id": "160fcefc",
   "metadata": {},
   "outputs": [],
   "source": [
    "import pandas as pd\n",
    "file_excel = pd.read_excel('bengkel.xlsx')\n",
    "bengkel = file_excel.to_dict('records')"
   ]
  },
  {
   "cell_type": "markdown",
   "id": "d978abb0",
   "metadata": {},
   "source": [
    "10 data pertama"
   ]
  },
  {
   "cell_type": "code",
   "execution_count": 97,
   "id": "ce42723a",
   "metadata": {},
   "outputs": [
    {
     "data": {
      "text/plain": [
       "[{'id': 1, 'servis': 58, 'harga': 7},\n",
       " {'id': 2, 'servis': 54, 'harga': 1},\n",
       " {'id': 3, 'servis': 98, 'harga': 2},\n",
       " {'id': 4, 'servis': 52, 'harga': 4},\n",
       " {'id': 5, 'servis': 11, 'harga': 4},\n",
       " {'id': 6, 'servis': 59, 'harga': 10},\n",
       " {'id': 7, 'servis': 61, 'harga': 8},\n",
       " {'id': 8, 'servis': 30, 'harga': 10},\n",
       " {'id': 9, 'servis': 45, 'harga': 1},\n",
       " {'id': 10, 'servis': 36, 'harga': 9}]"
      ]
     },
     "execution_count": 97,
     "metadata": {},
     "output_type": "execute_result"
    }
   ],
   "source": [
    "bengkel[:10]"
   ]
  },
  {
   "cell_type": "markdown",
   "id": "fc1b12e7",
   "metadata": {},
   "source": [
    "10 data terakhir"
   ]
  },
  {
   "cell_type": "code",
   "execution_count": 98,
   "id": "0d81e47c",
   "metadata": {},
   "outputs": [
    {
     "data": {
      "text/plain": [
       "[{'id': 91, 'servis': 98, 'harga': 3},\n",
       " {'id': 92, 'servis': 83, 'harga': 3},\n",
       " {'id': 93, 'servis': 40, 'harga': 8},\n",
       " {'id': 94, 'servis': 20, 'harga': 3},\n",
       " {'id': 95, 'servis': 63, 'harga': 8},\n",
       " {'id': 96, 'servis': 30, 'harga': 1},\n",
       " {'id': 97, 'servis': 25, 'harga': 3},\n",
       " {'id': 98, 'servis': 27, 'harga': 10},\n",
       " {'id': 99, 'servis': 8, 'harga': 6},\n",
       " {'id': 100, 'servis': 11, 'harga': 8}]"
      ]
     },
     "execution_count": 98,
     "metadata": {},
     "output_type": "execute_result"
    }
   ],
   "source": [
    "bengkel[-10:]"
   ]
  },
  {
   "cell_type": "markdown",
   "id": "5ab7226c",
   "metadata": {},
   "source": [
    "# A. Buat fungsi keanggotaan"
   ]
  },
  {
   "cell_type": "markdown",
   "id": "15751bc2",
   "metadata": {},
   "source": [
    "1. Fungsi keanggotaan kiri (Trapezoid Kiri)\n",
    "- 1, x < a\n",
    "- (b - x)/(b - a), a <= x <= b\n",
    "- 0, x > b\n",
    "\n",
    "\n",
    "2. Fungsi keanggotaan kanan (Trapezoid Kanan)\n",
    "- 0, x < a\n",
    "- -(x - a)/(a - b), a <= x <= b\n",
    "- 1, x > b"
   ]
  },
  {
   "cell_type": "code",
   "execution_count": 99,
   "id": "45f626e9",
   "metadata": {},
   "outputs": [],
   "source": [
    "def anggota_kiri_kanan(x, a, b, flip=False):\n",
    "    #flip digunakan utk membalik nilai a dan b agar dapat digunakan untuk fungsi keanggotaan kiri dan kanan\n",
    "    if flip == True:\n",
    "        #insert algo here(keanggotaan kanan)\n",
    "        if x >= a and x <= b:\n",
    "            return abs(-(x-a)/(a-b))\n",
    "        elif x > b:\n",
    "            return 1\n",
    "        else:\n",
    "            return 0\n",
    "    else:\n",
    "        #insert algo here(keanggotaan kiri)\n",
    "        if x >= a and x <= b:\n",
    "            return (b-x)/(b-a)\n",
    "        elif x < a:\n",
    "            return 1\n",
    "        else:\n",
    "            return 0"
   ]
  },
  {
   "cell_type": "markdown",
   "id": "ef95ddef",
   "metadata": {},
   "source": [
    "3. Fungsi keanggotaan tengah (Segitiga)\n",
    "- Max{Min{(x - a)/(b - a), (c - x)/(c - b)}, 0}"
   ]
  },
  {
   "cell_type": "code",
   "execution_count": 100,
   "id": "29e66fa1",
   "metadata": {},
   "outputs": [],
   "source": [
    "def anggota_tengah(x, a, b, c):\n",
    "    hitung1 = (x-a)/(b-a)\n",
    "    hitung2 = (c-x)/(c-b)\n",
    "    hasil_hitung_1 = min(hitung1, hitung2)\n",
    "    hasil_final = max(hasil_hitung_1, 0)\n",
    "    return hasil_final"
   ]
  },
  {
   "cell_type": "markdown",
   "id": "10653e35",
   "metadata": {},
   "source": [
    "Kategori fungsi\n",
    "\n",
    "Servis :\n",
    "- 0 - 50 = Kurang\n",
    "- 25 - 75 = Cukup\n",
    "- 50 - 100 = Baik\n",
    "\n",
    "Harga : \n",
    "- 0 - 4 = Murah\n",
    "- 3 - 7 = Sedang\n",
    "- 6 - 10 = Mahal"
   ]
  },
  {
   "cell_type": "markdown",
   "id": "3524c359",
   "metadata": {},
   "source": [
    "1. Servis (Keanggotaan 0 - 100)"
   ]
  },
  {
   "cell_type": "code",
   "execution_count": 101,
   "id": "9b0efabe",
   "metadata": {},
   "outputs": [],
   "source": [
    "def partisi_servis(nilai):\n",
    "    kiri = 0.0\n",
    "    tengah = 0.0\n",
    "    kanan = 0.0\n",
    "    if nilai >= 0 and nilai <= 50:\n",
    "        kiri = anggota_kiri_kanan(nilai, 20, 50, False)\n",
    "    if nilai >= 25 and nilai <= 75:\n",
    "        tengah = anggota_tengah(nilai, 25, 50, 75)\n",
    "    if nilai >= 50 and nilai <= 100:\n",
    "        kanan = anggota_kiri_kanan(nilai, 50, 90, True)\n",
    "    return float(\"{:.2f}\".format(kiri)), float(\"{:.2f}\".format(tengah)), float(\"{:.2f}\".format(kanan))"
   ]
  },
  {
   "cell_type": "markdown",
   "id": "31581f56",
   "metadata": {},
   "source": [
    "Uji coba fungsi"
   ]
  },
  {
   "cell_type": "code",
   "execution_count": 102,
   "id": "e6563e47",
   "metadata": {},
   "outputs": [
    {
     "name": "stdout",
     "output_type": "stream",
     "text": [
      "0.0 0.68 0.2\n"
     ]
    }
   ],
   "source": [
    "kiri, tengah, kanan = partisi_servis(58)\n",
    "print(kiri, tengah, kanan)"
   ]
  },
  {
   "cell_type": "code",
   "execution_count": 103,
   "id": "25fffec9",
   "metadata": {},
   "outputs": [],
   "source": [
    "def hitung_partisi_servis():\n",
    "    i = 0\n",
    "    fuzz_servis = []\n",
    "\n",
    "    while i < len(bengkel):\n",
    "        nilai = bengkel[i].get('servis')\n",
    "        kiri, tengah, kanan = partisi_servis(nilai)\n",
    "        fuzz_number_servis = {\n",
    "            'Kiri': kiri,\n",
    "            'Tengah': tengah,\n",
    "            'Kanan': kanan\n",
    "        }\n",
    "        fuzz_servis.append(fuzz_number_servis)\n",
    "        i = i + 1\n",
    "    \n",
    "    return fuzz_servis\n",
    "    "
   ]
  },
  {
   "cell_type": "code",
   "execution_count": 104,
   "id": "a2a3092a",
   "metadata": {
    "scrolled": true
   },
   "outputs": [
    {
     "data": {
      "text/plain": [
       "[{'Kiri': 0.0, 'Tengah': 0.68, 'Kanan': 0.2},\n",
       " {'Kiri': 0.0, 'Tengah': 0.84, 'Kanan': 0.1},\n",
       " {'Kiri': 0.0, 'Tengah': 0.0, 'Kanan': 1.0},\n",
       " {'Kiri': 0.0, 'Tengah': 0.92, 'Kanan': 0.05},\n",
       " {'Kiri': 1.0, 'Tengah': 0.0, 'Kanan': 0.0},\n",
       " {'Kiri': 0.0, 'Tengah': 0.64, 'Kanan': 0.23},\n",
       " {'Kiri': 0.0, 'Tengah': 0.56, 'Kanan': 0.28},\n",
       " {'Kiri': 0.67, 'Tengah': 0.2, 'Kanan': 0.0},\n",
       " {'Kiri': 0.17, 'Tengah': 0.8, 'Kanan': 0.0},\n",
       " {'Kiri': 0.47, 'Tengah': 0.44, 'Kanan': 0.0},\n",
       " {'Kiri': 1.0, 'Tengah': 0.0, 'Kanan': 0.0},\n",
       " {'Kiri': 0.4, 'Tengah': 0.52, 'Kanan': 0.0},\n",
       " {'Kiri': 0.0, 'Tengah': 0.0, 'Kanan': 0.75},\n",
       " {'Kiri': 0.63, 'Tengah': 0.24, 'Kanan': 0.0},\n",
       " {'Kiri': 0.0, 'Tengah': 0.0, 'Kanan': 0.7},\n",
       " {'Kiri': 0.0, 'Tengah': 0.0, 'Kanan': 0.8},\n",
       " {'Kiri': 0.0, 'Tengah': 0.2, 'Kanan': 0.5},\n",
       " {'Kiri': 1.0, 'Tengah': 0.0, 'Kanan': 0.0},\n",
       " {'Kiri': 0.27, 'Tengah': 0.68, 'Kanan': 0.0},\n",
       " {'Kiri': 0.03, 'Tengah': 0.96, 'Kanan': 0.0},\n",
       " {'Kiri': 0.07, 'Tengah': 0.92, 'Kanan': 0.0},\n",
       " {'Kiri': 0.0, 'Tengah': 0.0, 'Kanan': 0.72},\n",
       " {'Kiri': 1.0, 'Tengah': 0.0, 'Kanan': 0.0},\n",
       " {'Kiri': 0.0, 'Tengah': 0.0, 'Kanan': 1.0},\n",
       " {'Kiri': 0.0, 'Tengah': 0.56, 'Kanan': 0.28},\n",
       " {'Kiri': 1.0, 'Tengah': 0.0, 'Kanan': 0.0},\n",
       " {'Kiri': 0.0, 'Tengah': 0.64, 'Kanan': 0.23},\n",
       " {'Kiri': 0.2, 'Tengah': 0.76, 'Kanan': 0.0},\n",
       " {'Kiri': 1.0, 'Tengah': 0.0, 'Kanan': 0.0},\n",
       " {'Kiri': 1.0, 'Tengah': 0.0, 'Kanan': 0.0},\n",
       " {'Kiri': 0.0, 'Tengah': 0.04, 'Kanan': 0.6},\n",
       " {'Kiri': 0.27, 'Tengah': 0.68, 'Kanan': 0.0},\n",
       " {'Kiri': 0.57, 'Tengah': 0.32, 'Kanan': 0.0},\n",
       " {'Kiri': 0.0, 'Tengah': 0.0, 'Kanan': 1.0},\n",
       " {'Kiri': 1.0, 'Tengah': 0.0, 'Kanan': 0.0},\n",
       " {'Kiri': 0.6, 'Tengah': 0.28, 'Kanan': 0.0},\n",
       " {'Kiri': 0.63, 'Tengah': 0.24, 'Kanan': 0.0},\n",
       " {'Kiri': 1.0, 'Tengah': 0.0, 'Kanan': 0.0},\n",
       " {'Kiri': 0.0, 'Tengah': 0.92, 'Kanan': 0.05},\n",
       " {'Kiri': 1.0, 'Tengah': 0.0, 'Kanan': 0.0},\n",
       " {'Kiri': 0.57, 'Tengah': 0.32, 'Kanan': 0.0},\n",
       " {'Kiri': 0.0, 'Tengah': 0.0, 'Kanan': 1.0},\n",
       " {'Kiri': 0.53, 'Tengah': 0.36, 'Kanan': 0.0},\n",
       " {'Kiri': 0.0, 'Tengah': 0.48, 'Kanan': 0.33},\n",
       " {'Kiri': 1.0, 'Tengah': 0.0, 'Kanan': 0.0},\n",
       " {'Kiri': 0.4, 'Tengah': 0.52, 'Kanan': 0.0},\n",
       " {'Kiri': 0.97, 'Tengah': 0.0, 'Kanan': 0.0},\n",
       " {'Kiri': 0.0, 'Tengah': 0.44, 'Kanan': 0.35},\n",
       " {'Kiri': 1.0, 'Tengah': 0.0, 'Kanan': 0.0},\n",
       " {'Kiri': 0.27, 'Tengah': 0.68, 'Kanan': 0.0},\n",
       " {'Kiri': 0.07, 'Tengah': 0.92, 'Kanan': 0.0},\n",
       " {'Kiri': 0.0, 'Tengah': 0.0, 'Kanan': 1.0},\n",
       " {'Kiri': 0.97, 'Tengah': 0.0, 'Kanan': 0.0},\n",
       " {'Kiri': 0.0, 'Tengah': 0.44, 'Kanan': 0.35},\n",
       " {'Kiri': 0.0, 'Tengah': 1.0, 'Kanan': 0.0},\n",
       " {'Kiri': 0.03, 'Tengah': 0.96, 'Kanan': 0.0},\n",
       " {'Kiri': 0.87, 'Tengah': 0.0, 'Kanan': 0.0},\n",
       " {'Kiri': 0.63, 'Tengah': 0.24, 'Kanan': 0.0},\n",
       " {'Kiri': 0.73, 'Tengah': 0.12, 'Kanan': 0.0},\n",
       " {'Kiri': 0.0, 'Tengah': 0.0, 'Kanan': 0.72},\n",
       " {'Kiri': 0.27, 'Tengah': 0.68, 'Kanan': 0.0},\n",
       " {'Kiri': 0.63, 'Tengah': 0.24, 'Kanan': 0.0},\n",
       " {'Kiri': 0.0, 'Tengah': 0.0, 'Kanan': 0.7},\n",
       " {'Kiri': 0.5, 'Tengah': 0.4, 'Kanan': 0.0},\n",
       " {'Kiri': 1.0, 'Tengah': 0.0, 'Kanan': 0.0},\n",
       " {'Kiri': 1.0, 'Tengah': 0.0, 'Kanan': 0.0},\n",
       " {'Kiri': 0.77, 'Tengah': 0.08, 'Kanan': 0.0},\n",
       " {'Kiri': 0.0, 'Tengah': 0.64, 'Kanan': 0.23},\n",
       " {'Kiri': 0.0, 'Tengah': 0.0, 'Kanan': 0.9},\n",
       " {'Kiri': 0.0, 'Tengah': 0.0, 'Kanan': 0.7},\n",
       " {'Kiri': 0.37, 'Tengah': 0.56, 'Kanan': 0.0},\n",
       " {'Kiri': 0.8, 'Tengah': 0.04, 'Kanan': 0.0},\n",
       " {'Kiri': 0.93, 'Tengah': 0.0, 'Kanan': 0.0},\n",
       " {'Kiri': 0.0, 'Tengah': 0.84, 'Kanan': 0.1},\n",
       " {'Kiri': 0.0, 'Tengah': 0.56, 'Kanan': 0.28},\n",
       " {'Kiri': 0.17, 'Tengah': 0.8, 'Kanan': 0.0},\n",
       " {'Kiri': 1.0, 'Tengah': 0.0, 'Kanan': 0.0},\n",
       " {'Kiri': 1.0, 'Tengah': 0.0, 'Kanan': 0.0},\n",
       " {'Kiri': 0.0, 'Tengah': 0.0, 'Kanan': 0.93},\n",
       " {'Kiri': 0.37, 'Tengah': 0.56, 'Kanan': 0.0},\n",
       " {'Kiri': 1.0, 'Tengah': 0.0, 'Kanan': 0.0},\n",
       " {'Kiri': 1.0, 'Tengah': 0.0, 'Kanan': 0.0},\n",
       " {'Kiri': 0.0, 'Tengah': 0.24, 'Kanan': 0.47},\n",
       " {'Kiri': 1.0, 'Tengah': 0.0, 'Kanan': 0.0},\n",
       " {'Kiri': 1.0, 'Tengah': 0.0, 'Kanan': 0.0},\n",
       " {'Kiri': 0.67, 'Tengah': 0.2, 'Kanan': 0.0},\n",
       " {'Kiri': 0.0, 'Tengah': 0.76, 'Kanan': 0.15},\n",
       " {'Kiri': 1.0, 'Tengah': 0.0, 'Kanan': 0.0},\n",
       " {'Kiri': 0.07, 'Tengah': 0.92, 'Kanan': 0.0},\n",
       " {'Kiri': 1.0, 'Tengah': 0.0, 'Kanan': 0.0},\n",
       " {'Kiri': 0.0, 'Tengah': 0.0, 'Kanan': 1.0},\n",
       " {'Kiri': 0.0, 'Tengah': 0.0, 'Kanan': 0.82},\n",
       " {'Kiri': 0.33, 'Tengah': 0.6, 'Kanan': 0.0},\n",
       " {'Kiri': 1.0, 'Tengah': 0.0, 'Kanan': 0.0},\n",
       " {'Kiri': 0.0, 'Tengah': 0.48, 'Kanan': 0.33},\n",
       " {'Kiri': 0.67, 'Tengah': 0.2, 'Kanan': 0.0},\n",
       " {'Kiri': 0.83, 'Tengah': 0.0, 'Kanan': 0.0},\n",
       " {'Kiri': 0.77, 'Tengah': 0.08, 'Kanan': 0.0},\n",
       " {'Kiri': 1.0, 'Tengah': 0.0, 'Kanan': 0.0},\n",
       " {'Kiri': 1.0, 'Tengah': 0.0, 'Kanan': 0.0}]"
      ]
     },
     "execution_count": 104,
     "metadata": {},
     "output_type": "execute_result"
    }
   ],
   "source": [
    "hitung_partisi_servis()"
   ]
  },
  {
   "cell_type": "code",
   "execution_count": 105,
   "id": "9c72ef74",
   "metadata": {},
   "outputs": [],
   "source": [
    "fuzz_servis = hitung_partisi_servis()"
   ]
  },
  {
   "cell_type": "markdown",
   "id": "189e3939",
   "metadata": {},
   "source": [
    "2. Harga (Keanggotaan 0 - 10)"
   ]
  },
  {
   "cell_type": "code",
   "execution_count": 106,
   "id": "b041ff1f",
   "metadata": {},
   "outputs": [],
   "source": [
    "def partisi_harga(nilai):\n",
    "    kiri = 0.0\n",
    "    tengah = 0.0\n",
    "    kanan = 0.0\n",
    "    if nilai >= 0 and nilai <= 4:\n",
    "        kiri = anggota_kiri_kanan(nilai, 2, 4, False)\n",
    "    if nilai >= 3 and nilai <= 7:\n",
    "        tengah = anggota_tengah(nilai, 3, 5, 7)\n",
    "    if nilai >= 6 and nilai <= 10:\n",
    "        kanan = anggota_kiri_kanan(nilai, 6, 9, True)\n",
    "    return float(\"{:.2f}\".format(kiri)), float(\"{:.2f}\".format(tengah)), float(\"{:.2f}\".format(kanan))"
   ]
  },
  {
   "cell_type": "markdown",
   "id": "e5a79809",
   "metadata": {},
   "source": [
    "Uji coba fungsi"
   ]
  },
  {
   "cell_type": "code",
   "execution_count": 107,
   "id": "02f685e3",
   "metadata": {},
   "outputs": [
    {
     "name": "stdout",
     "output_type": "stream",
     "text": [
      "0.0 0.0 0.33\n"
     ]
    }
   ],
   "source": [
    "kiri, tengah, kanan = partisi_harga(7)\n",
    "print(kiri, tengah, kanan)"
   ]
  },
  {
   "cell_type": "code",
   "execution_count": 108,
   "id": "b9a4b048",
   "metadata": {},
   "outputs": [],
   "source": [
    "def hitung_partisi_harga():\n",
    "    i = 0\n",
    "    fuzz_harga = []\n",
    "\n",
    "    while i < len(bengkel):\n",
    "        nilai = bengkel[i].get('harga')\n",
    "        kiri, tengah, kanan = partisi_harga(nilai)\n",
    "        fuzz_number_harga = {\n",
    "            'Kiri': kiri,\n",
    "            'Tengah': tengah,\n",
    "            'Kanan': kanan\n",
    "        }\n",
    "        fuzz_harga.append(fuzz_number_harga)\n",
    "        i = i + 1\n",
    "        \n",
    "    return fuzz_harga\n",
    "    "
   ]
  },
  {
   "cell_type": "code",
   "execution_count": 109,
   "id": "6ae543f5",
   "metadata": {},
   "outputs": [],
   "source": [
    "fuzz_harga = hitung_partisi_harga()"
   ]
  },
  {
   "cell_type": "markdown",
   "id": "110c8498",
   "metadata": {},
   "source": [
    "# B. Terapkan Inferensi"
   ]
  },
  {
   "cell_type": "markdown",
   "id": "661ea659",
   "metadata": {},
   "source": [
    "Fuzzy Rules :\n",
    "1. Kurang x Murah = Biasa\n",
    "2. Kurang x Sedang = Buruk\n",
    "3. Kurang x Mahal = Buruk\n",
    "4. Cukup x Murah = Bagus\n",
    "5. Cukup x Sedang = Biasa\n",
    "6. Cukup x Mahal = Buruk\n",
    "7. Baik x Murah = Bagus\n",
    "8. Baik x Sedang = Bagus\n",
    "9. Baik x Mahal = Biasa\n",
    "\n",
    "Dapat disimpulkan bahwa :\n",
    "1. Bagus = (Cukup dan Murah) atau (Baik dan Murah) atau (Baik dan Sedang)\n",
    "2. Biasa = (Kurang dan Murah) atau (Cukup dan Sedang) atau (Baik dan Mahal)\n",
    "3. Buruk = (Kurang dan Sedang) atau (Kurang dan Mahal) atau (Cukup dan Mahal)\n",
    "\n",
    "Note :\n",
    "- Menggunakan operator AND >>> min()\n",
    "- Menggunakan operator OR >>> max()"
   ]
  },
  {
   "cell_type": "code",
   "execution_count": 110,
   "id": "36d49301",
   "metadata": {},
   "outputs": [],
   "source": [
    "#Menerima 6 input, 3 untuk kiri tengah kanan fuzz_servis, dan 3 untuk kiri tengah kanan fuzz_harga\n",
    "#fungsi ini diimplementasikan dalam perulangan yang akan memanggil fungsi ini sebanyak variabel dalam list fuzzy (100 kali)\n",
    "#mengembalikan dictionary yang terdiri dari nilai Buruk, Biasa, Bagus (format sama seperti fungsi hitung partisi)\n",
    "\n",
    "def inferensi(KiriServis, TengahServis, KananServis, KiriHarga, TengahHarga, KananHarga):\n",
    "    \n",
    "    #KiriServis = Kurang, TengahServis = Cukup, KananServis = Baik\n",
    "    #KiriHarga = Murah, TengahHarga = Sedang, KananHarga = Mahal\n",
    "    \n",
    "    Bagus = max(min(TengahServis, KiriHarga), min(KananServis, KiriHarga), min(KananServis, TengahHarga))\n",
    "    Biasa = max(min(KiriServis, KiriHarga), min(TengahServis, TengahHarga), min(KananServis, KananHarga))\n",
    "    Buruk = max(min(KiriServis, TengahHarga), min(KiriServis, KananHarga), min(TengahServis, KananHarga))\n",
    "    \n",
    "    outcome = {\n",
    "        'Buruk': Buruk,\n",
    "        'Biasa': Biasa,\n",
    "        'Bagus': Bagus\n",
    "    }\n",
    "    return outcome"
   ]
  },
  {
   "cell_type": "code",
   "execution_count": 111,
   "id": "d7fed723",
   "metadata": {},
   "outputs": [],
   "source": [
    "def hitung_inferensi():\n",
    "\n",
    "    i = 0\n",
    "    Hasil_inferensi = []\n",
    "\n",
    "    while i < len(bengkel):\n",
    "        KiriServis = fuzz_servis[i].get('Kiri')\n",
    "        TengahServis = fuzz_servis[i].get('Tengah')\n",
    "        KananServis = fuzz_servis[i].get('Kanan')\n",
    "        KiriHarga = fuzz_harga[i].get('Kiri')\n",
    "        TengahHarga = fuzz_harga[i].get('Tengah')\n",
    "        KananHarga = fuzz_harga[i].get('Kanan')\n",
    "        hasil_dict = inferensi(KiriServis, TengahServis, KananServis, KiriHarga, TengahHarga, KananHarga)\n",
    "        Hasil_inferensi.append(hasil_dict)\n",
    "        i = i + 1\n",
    "\n",
    "    return Hasil_inferensi"
   ]
  },
  {
   "cell_type": "code",
   "execution_count": 112,
   "id": "066be7b2",
   "metadata": {},
   "outputs": [],
   "source": [
    "Hasil_inferensi = hitung_inferensi()"
   ]
  },
  {
   "cell_type": "markdown",
   "id": "2ec2e318",
   "metadata": {},
   "source": [
    "# C. Lakukan Defuzzification"
   ]
  },
  {
   "cell_type": "markdown",
   "id": "d710db5c",
   "metadata": {},
   "source": [
    "Pada tugas ini akan digunakan defuzzification dengan metode Mamdani\n",
    "Berikut langkahnya :\n",
    "\n",
    "1. Buat angka-angka sembarang (disini digunakan skala 0-100 dan angka yang dimulai dari 5 dan berkelipatan 10).\n",
    "2. Masukkan angka-angka yang telah dibuat tadi ke fungsi keanggotaan (karena yang digunakan adalah skala 0-100, disini akan dipinjam fungsi keanggotaan servis).\n",
    "3. Bandingkan tiap nilai output inferensi dari data dengan angka sembarang yang sudah dimasukkan kedalam fungsi keanggotaan sebelumnya (jika fungsi keanggotaan nilai sembarang lebih besar, maka nilainya diganti dengan nilai dari output inferensi). Lalu untuk tiap nilai keanggotaan angka sembarang yang telah dibandingkan dengan output inferensi, dapatkan nilai maksimalnya dan juga hasil kali antara nilai maksimal dengan angka sembarang.\n",
    "4. Totalkan jumlah hasil kali dan jumlah nilai maksimalnya. Lalu lakukan pembagian antara jumlah hasil kali dengan jumlah nilai maksimal. Maka akan didapatkan crisp output. Ulangi langkah 3 dan 4 untuk setiap nilai yang ada pada output inferensi."
   ]
  },
  {
   "cell_type": "code",
   "execution_count": 113,
   "id": "1df13f61",
   "metadata": {
    "scrolled": true
   },
   "outputs": [
    {
     "data": {
      "text/plain": [
       "[{'Buruk': 0.33, 'Biasa': 0.2, 'Bagus': 0.0},\n",
       " {'Buruk': 0.0, 'Biasa': 0.0, 'Bagus': 0.84},\n",
       " {'Buruk': 0.0, 'Biasa': 0.0, 'Bagus': 1.0},\n",
       " {'Buruk': 0.0, 'Biasa': 0.5, 'Bagus': 0.05},\n",
       " {'Buruk': 0.5, 'Biasa': 0.0, 'Bagus': 0.0},\n",
       " {'Buruk': 0.64, 'Biasa': 0.23, 'Bagus': 0.0},\n",
       " {'Buruk': 0.56, 'Biasa': 0.28, 'Bagus': 0.0},\n",
       " {'Buruk': 0.67, 'Biasa': 0.0, 'Bagus': 0.0},\n",
       " {'Buruk': 0.0, 'Biasa': 0.17, 'Bagus': 0.8},\n",
       " {'Buruk': 0.47, 'Biasa': 0.0, 'Bagus': 0.0},\n",
       " {'Buruk': 1.0, 'Biasa': 0.0, 'Bagus': 0.0},\n",
       " {'Buruk': 0.33, 'Biasa': 0.0, 'Bagus': 0.0},\n",
       " {'Buruk': 0.0, 'Biasa': 0.0, 'Bagus': 0.5},\n",
       " {'Buruk': 0.63, 'Biasa': 0.0, 'Bagus': 0.0},\n",
       " {'Buruk': 0.0, 'Biasa': 0.0, 'Bagus': 0.7},\n",
       " {'Buruk': 0.0, 'Biasa': 0.0, 'Bagus': 0.5},\n",
       " {'Buruk': 0.0, 'Biasa': 0.0, 'Bagus': 0.5},\n",
       " {'Buruk': 1.0, 'Biasa': 0.0, 'Bagus': 0.0},\n",
       " {'Buruk': 0.0, 'Biasa': 0.27, 'Bagus': 0.5},\n",
       " {'Buruk': 0.96, 'Biasa': 0.0, 'Bagus': 0.0},\n",
       " {'Buruk': 0.0, 'Biasa': 0.07, 'Bagus': 0.92},\n",
       " {'Buruk': 0.0, 'Biasa': 0.72, 'Bagus': 0.0},\n",
       " {'Buruk': 0.5, 'Biasa': 0.0, 'Bagus': 0.0},\n",
       " {'Buruk': 0.0, 'Biasa': 1.0, 'Bagus': 0.0},\n",
       " {'Buruk': 0.56, 'Biasa': 0.28, 'Bagus': 0.0},\n",
       " {'Buruk': 0.0, 'Biasa': 1.0, 'Bagus': 0.0},\n",
       " {'Buruk': 0.64, 'Biasa': 0.23, 'Bagus': 0.0},\n",
       " {'Buruk': 0.0, 'Biasa': 0.2, 'Bagus': 0.5},\n",
       " {'Buruk': 0.67, 'Biasa': 0.0, 'Bagus': 0.0},\n",
       " {'Buruk': 0.5, 'Biasa': 0.0, 'Bagus': 0.0},\n",
       " {'Buruk': 0.04, 'Biasa': 0.6, 'Bagus': 0.0},\n",
       " {'Buruk': 0.0, 'Biasa': 0.27, 'Bagus': 0.5},\n",
       " {'Buruk': 0.57, 'Biasa': 0.0, 'Bagus': 0.0},\n",
       " {'Buruk': 0.0, 'Biasa': 0.0, 'Bagus': 0.5},\n",
       " {'Buruk': 0.0, 'Biasa': 1.0, 'Bagus': 0.0},\n",
       " {'Buruk': 0.5, 'Biasa': 0.28, 'Bagus': 0.0},\n",
       " {'Buruk': 0.5, 'Biasa': 0.24, 'Bagus': 0.0},\n",
       " {'Buruk': 0.0, 'Biasa': 1.0, 'Bagus': 0.0},\n",
       " {'Buruk': 0.33, 'Biasa': 0.05, 'Bagus': 0.0},\n",
       " {'Buruk': 0.5, 'Biasa': 0.0, 'Bagus': 0.0},\n",
       " {'Buruk': 0.0, 'Biasa': 0.57, 'Bagus': 0.32},\n",
       " {'Buruk': 0.0, 'Biasa': 1.0, 'Bagus': 0.0},\n",
       " {'Buruk': 0.0, 'Biasa': 0.5, 'Bagus': 0.36},\n",
       " {'Buruk': 0.0, 'Biasa': 0.0, 'Bagus': 0.48},\n",
       " {'Buruk': 0.67, 'Biasa': 0.0, 'Bagus': 0.0},\n",
       " {'Buruk': 0.0, 'Biasa': 0.4, 'Bagus': 0.52},\n",
       " {'Buruk': 0.0, 'Biasa': 0.5, 'Bagus': 0.0},\n",
       " {'Buruk': 0.0, 'Biasa': 0.44, 'Bagus': 0.35},\n",
       " {'Buruk': 0.0, 'Biasa': 1.0, 'Bagus': 0.0},\n",
       " {'Buruk': 0.27, 'Biasa': 0.68, 'Bagus': 0.0},\n",
       " {'Buruk': 0.92, 'Biasa': 0.0, 'Bagus': 0.0},\n",
       " {'Buruk': 0.0, 'Biasa': 0.0, 'Bagus': 0.5},\n",
       " {'Buruk': 0.5, 'Biasa': 0.0, 'Bagus': 0.0},\n",
       " {'Buruk': 0.44, 'Biasa': 0.35, 'Bagus': 0.0},\n",
       " {'Buruk': 0.33, 'Biasa': 0.0, 'Bagus': 0.0},\n",
       " {'Buruk': 0.0, 'Biasa': 0.03, 'Bagus': 0.5},\n",
       " {'Buruk': 0.0, 'Biasa': 0.5, 'Bagus': 0.0},\n",
       " {'Buruk': 0.0, 'Biasa': 0.63, 'Bagus': 0.24},\n",
       " {'Buruk': 0.5, 'Biasa': 0.12, 'Bagus': 0.0},\n",
       " {'Buruk': 0.0, 'Biasa': 0.0, 'Bagus': 0.5},\n",
       " {'Buruk': 0.27, 'Biasa': 0.5, 'Bagus': 0.0},\n",
       " {'Buruk': 0.33, 'Biasa': 0.0, 'Bagus': 0.0},\n",
       " {'Buruk': 0.0, 'Biasa': 0.33, 'Bagus': 0.0},\n",
       " {'Buruk': 0.0, 'Biasa': 0.5, 'Bagus': 0.4},\n",
       " {'Buruk': 0.67, 'Biasa': 0.0, 'Bagus': 0.0},\n",
       " {'Buruk': 1.0, 'Biasa': 0.0, 'Bagus': 0.0},\n",
       " {'Buruk': 0.5, 'Biasa': 0.08, 'Bagus': 0.0},\n",
       " {'Buruk': 0.0, 'Biasa': 0.64, 'Bagus': 0.23},\n",
       " {'Buruk': 0.0, 'Biasa': 0.9, 'Bagus': 0.0},\n",
       " {'Buruk': 0.0, 'Biasa': 0.67, 'Bagus': 0.0},\n",
       " {'Buruk': 0.0, 'Biasa': 0.37, 'Bagus': 0.5},\n",
       " {'Buruk': 0.5, 'Biasa': 0.04, 'Bagus': 0.0},\n",
       " {'Buruk': 0.93, 'Biasa': 0.0, 'Bagus': 0.0},\n",
       " {'Buruk': 0.0, 'Biasa': 0.5, 'Bagus': 0.1},\n",
       " {'Buruk': 0.0, 'Biasa': 0.0, 'Bagus': 0.56},\n",
       " {'Buruk': 0.17, 'Biasa': 0.8, 'Bagus': 0.0},\n",
       " {'Buruk': 1.0, 'Biasa': 0.0, 'Bagus': 0.0},\n",
       " {'Buruk': 0.0, 'Biasa': 1.0, 'Bagus': 0.0},\n",
       " {'Buruk': 0.0, 'Biasa': 0.93, 'Bagus': 0.0},\n",
       " {'Buruk': 0.56, 'Biasa': 0.0, 'Bagus': 0.0},\n",
       " {'Buruk': 1.0, 'Biasa': 0.0, 'Bagus': 0.0},\n",
       " {'Buruk': 0.5, 'Biasa': 0.0, 'Bagus': 0.0},\n",
       " {'Buruk': 0.24, 'Biasa': 0.47, 'Bagus': 0.0},\n",
       " {'Buruk': 0.0, 'Biasa': 1.0, 'Bagus': 0.0},\n",
       " {'Buruk': 0.5, 'Biasa': 0.0, 'Bagus': 0.0},\n",
       " {'Buruk': 0.67, 'Biasa': 0.2, 'Bagus': 0.0},\n",
       " {'Buruk': 0.0, 'Biasa': 0.5, 'Bagus': 0.15},\n",
       " {'Buruk': 1.0, 'Biasa': 0.0, 'Bagus': 0.0},\n",
       " {'Buruk': 0.0, 'Biasa': 0.07, 'Bagus': 0.92},\n",
       " {'Buruk': 0.0, 'Biasa': 1.0, 'Bagus': 0.0},\n",
       " {'Buruk': 0.0, 'Biasa': 0.0, 'Bagus': 0.5},\n",
       " {'Buruk': 0.0, 'Biasa': 0.0, 'Bagus': 0.5},\n",
       " {'Buruk': 0.6, 'Biasa': 0.0, 'Bagus': 0.0},\n",
       " {'Buruk': 0.0, 'Biasa': 0.5, 'Bagus': 0.0},\n",
       " {'Buruk': 0.48, 'Biasa': 0.33, 'Bagus': 0.0},\n",
       " {'Buruk': 0.0, 'Biasa': 0.67, 'Bagus': 0.2},\n",
       " {'Buruk': 0.0, 'Biasa': 0.5, 'Bagus': 0.0},\n",
       " {'Buruk': 0.77, 'Biasa': 0.0, 'Bagus': 0.0},\n",
       " {'Buruk': 0.5, 'Biasa': 0.0, 'Bagus': 0.0},\n",
       " {'Buruk': 0.67, 'Biasa': 0.0, 'Bagus': 0.0}]"
      ]
     },
     "execution_count": 113,
     "metadata": {},
     "output_type": "execute_result"
    }
   ],
   "source": [
    "hitung_inferensi()"
   ]
  },
  {
   "cell_type": "code",
   "execution_count": 114,
   "id": "184d117a",
   "metadata": {},
   "outputs": [],
   "source": [
    "def defuzzification_mamdani():\n",
    "    \n",
    "    #set random number untuk skala 0 - 100\n",
    "    #akan dibuat angka kelipatan 10\n",
    "    setrandint = [5, 15, 25, 35, 45, 55, 65, 75, 85, 95]\n",
    "    hasil = []\n",
    "    j = 0\n",
    "    while j < len(bengkel):\n",
    "        Buruk = Hasil_inferensi[j].get('Buruk')\n",
    "        Biasa = Hasil_inferensi[j].get('Biasa')\n",
    "        Bagus = Hasil_inferensi[j].get('Bagus')\n",
    "        i = 0\n",
    "        totalhasilmax = []\n",
    "        totalhasilkalimax = []\n",
    "        while i < 10:\n",
    "            #karena digunakan skala 0 - 100, maka akan dipinjam fungsi partisi_servis\n",
    "            Burukrandint, Biasarandint, Bagusrandint = partisi_servis(setrandint[i])\n",
    "            if Buruk <= Burukrandint:\n",
    "                Burukfinal = Buruk\n",
    "            if Buruk > Burukrandint:\n",
    "                Burukfinal = Burukrandint\n",
    "            if Biasa <= Biasarandint:\n",
    "                Biasafinal = Biasa\n",
    "            if Biasa > Biasarandint:\n",
    "                Biasafinal = Biasarandint\n",
    "            if Bagus <= Bagusrandint:\n",
    "                Bagusfinal = Bagus\n",
    "            if Bagus > Bagusrandint:\n",
    "                Bagusfinal = Bagusrandint\n",
    "            #tentukan nilai maksimum diantara Burukfinal, Biasafinal, dan Bagusfinal. Lalu, kalikan nilainya dengan i utk\n",
    "            #mendapatkan nilai hasil kali maksimum\n",
    "            hasilmax = max(Burukfinal, Biasafinal, Bagusfinal)\n",
    "            totalhasilmax.append(hasilmax)\n",
    "            hasilkalimax = hasilmax*setrandint[i]\n",
    "            totalhasilkalimax.append(hasilkalimax)\n",
    "            i = i + 1\n",
    "        nilaiakhir = sum(totalhasilkalimax)/sum(totalhasilmax)\n",
    "        hasil.append(nilaiakhir)\n",
    "        j = j + 1\n",
    "        \n",
    "    return hasil"
   ]
  },
  {
   "cell_type": "code",
   "execution_count": 115,
   "id": "ca356cfe",
   "metadata": {
    "scrolled": true
   },
   "outputs": [],
   "source": [
    "Hasil_defuzzification = defuzzification_mamdani()"
   ]
  },
  {
   "cell_type": "markdown",
   "id": "febd0bcc",
   "metadata": {},
   "source": [
    "# D. Mengurutkan bengkel berdasarkan skor terbesar"
   ]
  },
  {
   "cell_type": "markdown",
   "id": "d74ffe35",
   "metadata": {},
   "source": [
    "Setelah skor (crisp output) masing-masing bengkel didapatkan, maka akan dilakukan pengurutan bengkel berdasarkan skor tertinggi"
   ]
  },
  {
   "cell_type": "code",
   "execution_count": 116,
   "id": "556a9678",
   "metadata": {},
   "outputs": [],
   "source": [
    "def peringkat():\n",
    "    \n",
    "    i = 0\n",
    "    Final_list = []\n",
    "    \n",
    "    while i < len(bengkel):\n",
    "        Id = bengkel[i].get('id')\n",
    "        Servis = bengkel[i].get('servis')\n",
    "        Harga = bengkel[i].get('harga')\n",
    "        Skor = Hasil_defuzzification[i]\n",
    "        dict_new = {\n",
    "            'Id': Id,\n",
    "            'Servis': Servis,\n",
    "            'Harga': Harga,\n",
    "            'Skor': Skor\n",
    "        }\n",
    "        Final_list.append(dict_new)\n",
    "        i = i + 1\n",
    "    \n",
    "    sort_list = sorted(Final_list, key = lambda n: n['Skor'], reverse = True)\n",
    "    return sort_list[:10], sort_list"
   ]
  },
  {
   "cell_type": "code",
   "execution_count": 117,
   "id": "72efe4d7",
   "metadata": {},
   "outputs": [],
   "source": [
    "List_Top10, List_Total = peringkat()"
   ]
  },
  {
   "cell_type": "code",
   "execution_count": 118,
   "id": "6c340177",
   "metadata": {
    "scrolled": true
   },
   "outputs": [
    {
     "data": {
      "text/plain": [
       "[{'Id': 3, 'Servis': 98, 'Harga': 2, 'Skor': 82.53333333333333},\n",
       " {'Id': 2, 'Servis': 54, 'Harga': 1, 'Skor': 81.78571428571429},\n",
       " {'Id': 15, 'Servis': 78, 'Harga': 5, 'Skor': 80.87301587301586},\n",
       " {'Id': 21, 'Servis': 48, 'Harga': 2, 'Skor': 80.26143790849673},\n",
       " {'Id': 89, 'Servis': 48, 'Harga': 2, 'Skor': 80.26143790849673},\n",
       " {'Id': 75, 'Servis': 61, 'Harga': 1, 'Skor': 79.86238532110092},\n",
       " {'Id': 13, 'Servis': 80, 'Harga': 3, 'Skor': 79.4},\n",
       " {'Id': 16, 'Servis': 82, 'Harga': 6, 'Skor': 79.4},\n",
       " {'Id': 17, 'Servis': 70, 'Harga': 3, 'Skor': 79.4},\n",
       " {'Id': 34, 'Servis': 93, 'Harga': 4, 'Skor': 79.4}]"
      ]
     },
     "execution_count": 118,
     "metadata": {},
     "output_type": "execute_result"
    }
   ],
   "source": [
    "List_Top10"
   ]
  },
  {
   "cell_type": "code",
   "execution_count": 119,
   "id": "9a114ba8",
   "metadata": {
    "scrolled": true
   },
   "outputs": [
    {
     "data": {
      "text/plain": [
       "[{'Id': 3, 'Servis': 98, 'Harga': 2, 'Skor': 82.53333333333333},\n",
       " {'Id': 2, 'Servis': 54, 'Harga': 1, 'Skor': 81.78571428571429},\n",
       " {'Id': 15, 'Servis': 78, 'Harga': 5, 'Skor': 80.87301587301586},\n",
       " {'Id': 21, 'Servis': 48, 'Harga': 2, 'Skor': 80.26143790849673},\n",
       " {'Id': 89, 'Servis': 48, 'Harga': 2, 'Skor': 80.26143790849673},\n",
       " {'Id': 75, 'Servis': 61, 'Harga': 1, 'Skor': 79.86238532110092},\n",
       " {'Id': 13, 'Servis': 80, 'Harga': 3, 'Skor': 79.4},\n",
       " {'Id': 16, 'Servis': 82, 'Harga': 6, 'Skor': 79.4},\n",
       " {'Id': 17, 'Servis': 70, 'Harga': 3, 'Skor': 79.4},\n",
       " {'Id': 34, 'Servis': 93, 'Harga': 4, 'Skor': 79.4},\n",
       " {'Id': 52, 'Servis': 94, 'Harga': 3, 'Skor': 79.4},\n",
       " {'Id': 60, 'Servis': 79, 'Harga': 6, 'Skor': 79.4},\n",
       " {'Id': 91, 'Servis': 98, 'Harga': 3, 'Skor': 79.4},\n",
       " {'Id': 92, 'Servis': 83, 'Harga': 3, 'Skor': 79.4},\n",
       " {'Id': 44, 'Servis': 63, 'Harga': 2, 'Skor': 79.22680412371133},\n",
       " {'Id': 56, 'Servis': 49, 'Harga': 3, 'Skor': 78.25242718446601},\n",
       " {'Id': 9, 'Servis': 45, 'Harga': 1, 'Skor': 76.57556270096462},\n",
       " {'Id': 28, 'Servis': 44, 'Harga': 3, 'Skor': 72.25806451612902},\n",
       " {'Id': 19, 'Servis': 42, 'Harga': 3, 'Skor': 70.13011152416357},\n",
       " {'Id': 32, 'Servis': 42, 'Harga': 3, 'Skor': 70.13011152416357},\n",
       " {'Id': 71, 'Servis': 39, 'Harga': 3, 'Skor': 67.60869565217392},\n",
       " {'Id': 46, 'Servis': 38, 'Harga': 1, 'Skor': 67.27848101265822},\n",
       " {'Id': 64, 'Servis': 35, 'Harga': 2, 'Skor': 64.00000000000001},\n",
       " {'Id': 48, 'Servis': 64, 'Harga': 4, 'Skor': 63.46153846153845},\n",
       " {'Id': 43, 'Servis': 34, 'Harga': 3, 'Skor': 63.12500000000001},\n",
       " {'Id': 41, 'Servis': 33, 'Harga': 2, 'Skor': 61.58620689655174},\n",
       " {'Id': 58, 'Servis': 31, 'Harga': 1, 'Skor': 59.06474820143885},\n",
       " {'Id': 68, 'Servis': 59, 'Harga': 5, 'Skor': 58.71841155234657},\n",
       " {'Id': 96, 'Servis': 30, 'Harga': 1, 'Skor': 57.664233576642324},\n",
       " {'Id': 87, 'Servis': 56, 'Harga': 4, 'Skor': 57.000000000000014},\n",
       " {'Id': 74, 'Servis': 54, 'Harga': 4, 'Skor': 55.0},\n",
       " {'Id': 4, 'Servis': 52, 'Harga': 4, 'Skor': 52.69230769230769},\n",
       " {'Id': 47, 'Servis': 21, 'Harga': 3, 'Skor': 50.00000000000001},\n",
       " {'Id': 57, 'Servis': 24, 'Harga': 3, 'Skor': 50.00000000000001},\n",
       " {'Id': 94, 'Servis': 20, 'Harga': 3, 'Skor': 50.00000000000001},\n",
       " {'Id': 97, 'Servis': 25, 'Harga': 3, 'Skor': 50.00000000000001},\n",
       " {'Id': 24, 'Servis': 100, 'Harga': 9, 'Skor': 50.0},\n",
       " {'Id': 26, 'Servis': 4, 'Harga': 2, 'Skor': 50.0},\n",
       " {'Id': 35, 'Servis': 4, 'Harga': 1, 'Skor': 50.0},\n",
       " {'Id': 38, 'Servis': 10, 'Harga': 1, 'Skor': 50.0},\n",
       " {'Id': 42, 'Servis': 94, 'Harga': 10, 'Skor': 50.0},\n",
       " {'Id': 49, 'Servis': 19, 'Harga': 1, 'Skor': 50.0},\n",
       " {'Id': 63, 'Servis': 78, 'Harga': 7, 'Skor': 50.0},\n",
       " {'Id': 69, 'Servis': 86, 'Harga': 10, 'Skor': 50.0},\n",
       " {'Id': 70, 'Servis': 78, 'Harga': 8, 'Skor': 50.0},\n",
       " {'Id': 78, 'Servis': 20, 'Harga': 1, 'Skor': 50.0},\n",
       " {'Id': 79, 'Servis': 87, 'Harga': 9, 'Skor': 50.0},\n",
       " {'Id': 84, 'Servis': 11, 'Harga': 2, 'Skor': 50.0},\n",
       " {'Id': 90, 'Servis': 10, 'Harga': 1, 'Skor': 50.0},\n",
       " {'Id': 22, 'Servis': 79, 'Harga': 9, 'Skor': 49.99999999999999},\n",
       " {'Id': 31, 'Servis': 74, 'Harga': 9, 'Skor': 48.0188679245283},\n",
       " {'Id': 76, 'Servis': 45, 'Harga': 5, 'Skor': 43.8659793814433},\n",
       " {'Id': 50, 'Servis': 42, 'Harga': 5, 'Skor': 40.45454545454545},\n",
       " {'Id': 83, 'Servis': 69, 'Harga': 8, 'Skor': 39.75609756097561},\n",
       " {'Id': 61, 'Servis': 42, 'Harga': 4, 'Skor': 39.13793103448276},\n",
       " {'Id': 54, 'Servis': 64, 'Harga': 10, 'Skor': 33.07829181494662},\n",
       " {'Id': 95, 'Servis': 63, 'Harga': 8, 'Skor': 31.90721649484536},\n",
       " {'Id': 1, 'Servis': 58, 'Harga': 7, 'Skor': 30.937500000000004},\n",
       " {'Id': 36, 'Servis': 32, 'Harga': 6, 'Skor': 30.352112676056333},\n",
       " {'Id': 7, 'Servis': 61, 'Harga': 8, 'Skor': 29.43708609271523},\n",
       " {'Id': 25, 'Servis': 61, 'Harga': 10, 'Skor': 29.43708609271523},\n",
       " {'Id': 37, 'Servis': 31, 'Harga': 4, 'Skor': 29.26470588235293},\n",
       " {'Id': 6, 'Servis': 59, 'Harga': 10, 'Skor': 27.090032154340836},\n",
       " {'Id': 27, 'Servis': 59, 'Harga': 8, 'Skor': 27.090032154340836},\n",
       " {'Id': 86, 'Servis': 30, 'Harga': 5, 'Skor': 25.93247588424437},\n",
       " {'Id': 59, 'Servis': 28, 'Harga': 4, 'Skor': 25.746887966804977},\n",
       " {'Id': 39, 'Servis': 52, 'Harga': 7, 'Skor': 25.18867924528302},\n",
       " {'Id': 67, 'Servis': 27, 'Harga': 4, 'Skor': 24.570815450643774},\n",
       " {'Id': 72, 'Servis': 26, 'Harga': 6, 'Skor': 23.311111111111114},\n",
       " {'Id': 12, 'Servis': 38, 'Harga': 7, 'Skor': 22.852348993288594},\n",
       " {'Id': 55, 'Servis': 50, 'Harga': 7, 'Skor': 22.852348993288594},\n",
       " {'Id': 62, 'Servis': 31, 'Harga': 7, 'Skor': 22.852348993288594},\n",
       " {'Id': 10, 'Servis': 36, 'Harga': 9, 'Skor': 22.073170731707314},\n",
       " {'Id': 5, 'Servis': 11, 'Harga': 4, 'Skor': 21.95852534562212},\n",
       " {'Id': 23, 'Servis': 18, 'Harga': 4, 'Skor': 21.95852534562212},\n",
       " {'Id': 30, 'Servis': 7, 'Harga': 6, 'Skor': 21.95852534562212},\n",
       " {'Id': 40, 'Servis': 7, 'Harga': 6, 'Skor': 21.95852534562212},\n",
       " {'Id': 53, 'Servis': 21, 'Harga': 6, 'Skor': 21.95852534562212},\n",
       " {'Id': 82, 'Servis': 13, 'Harga': 4, 'Skor': 21.95852534562212},\n",
       " {'Id': 85, 'Servis': 18, 'Harga': 4, 'Skor': 21.95852534562212},\n",
       " {'Id': 99, 'Servis': 8, 'Harga': 6, 'Skor': 21.95852534562212},\n",
       " {'Id': 80, 'Servis': 39, 'Harga': 10, 'Skor': 21.425531914893618},\n",
       " {'Id': 33, 'Servis': 33, 'Harga': 8, 'Skor': 21.34453781512605},\n",
       " {'Id': 93, 'Servis': 40, 'Harga': 8, 'Skor': 21.113360323886642},\n",
       " {'Id': 14, 'Servis': 31, 'Harga': 8, 'Skor': 20.8984375},\n",
       " {'Id': 8, 'Servis': 30, 'Harga': 10, 'Skor': 20.634328358208954},\n",
       " {'Id': 29, 'Servis': 11, 'Harga': 8, 'Skor': 20.634328358208954},\n",
       " {'Id': 45, 'Servis': 3, 'Harga': 8, 'Skor': 20.634328358208954},\n",
       " {'Id': 65, 'Servis': 3, 'Harga': 8, 'Skor': 20.634328358208954},\n",
       " {'Id': 100, 'Servis': 11, 'Harga': 8, 'Skor': 20.634328358208954},\n",
       " {'Id': 98, 'Servis': 27, 'Harga': 10, 'Skor': 20.06711409395973},\n",
       " {'Id': 51, 'Servis': 48, 'Harga': 10, 'Skor': 19.25149700598803},\n",
       " {'Id': 73, 'Servis': 22, 'Harga': 10, 'Skor': 19.196428571428573},\n",
       " {'Id': 20, 'Servis': 49, 'Harga': 10, 'Skor': 19.03508771929825},\n",
       " {'Id': 11, 'Servis': 10, 'Harga': 5, 'Skor': 18.82857142857143},\n",
       " {'Id': 18, 'Servis': 3, 'Harga': 9, 'Skor': 18.82857142857143},\n",
       " {'Id': 66, 'Servis': 4, 'Harga': 9, 'Skor': 18.82857142857143},\n",
       " {'Id': 77, 'Servis': 11, 'Harga': 10, 'Skor': 18.82857142857143},\n",
       " {'Id': 81, 'Servis': 4, 'Harga': 10, 'Skor': 18.82857142857143},\n",
       " {'Id': 88, 'Servis': 18, 'Harga': 9, 'Skor': 18.82857142857143}]"
      ]
     },
     "execution_count": 119,
     "metadata": {},
     "output_type": "execute_result"
    }
   ],
   "source": [
    "List_Total"
   ]
  },
  {
   "cell_type": "markdown",
   "id": "d63c6dca",
   "metadata": {},
   "source": [
    "Ubah list kedalam bentuk file .xlsx"
   ]
  },
  {
   "cell_type": "code",
   "execution_count": 120,
   "id": "755f8fbc",
   "metadata": {},
   "outputs": [],
   "source": [
    "df = pd.DataFrame(List_Top10)\n",
    "writer = pd.ExcelWriter('HasilFuzzyLogic.xlsx', engine='xlsxwriter')\n",
    "df.to_excel(writer, sheet_name='Hasil Top 10', index=False)\n",
    "df = pd.DataFrame(List_Total)\n",
    "df.to_excel(writer, sheet_name='Hasil Total', index=False)\n",
    "writer.save()"
   ]
  }
 ],
 "metadata": {
  "kernelspec": {
   "display_name": "Python 3 (ipykernel)",
   "language": "python",
   "name": "python3"
  },
  "language_info": {
   "codemirror_mode": {
    "name": "ipython",
    "version": 3
   },
   "file_extension": ".py",
   "mimetype": "text/x-python",
   "name": "python",
   "nbconvert_exporter": "python",
   "pygments_lexer": "ipython3",
   "version": "3.9.7"
  }
 },
 "nbformat": 4,
 "nbformat_minor": 5
}
